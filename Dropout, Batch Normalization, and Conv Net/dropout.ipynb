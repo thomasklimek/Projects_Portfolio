{
 "cells": [
  {
   "cell_type": "markdown",
   "metadata": {},
   "source": [
    "# Dropout\n",
    "Dropout [1] is a technique for regularizing neural networks by randomly setting some features to zero during the forward pass. In this exercise you will implement a dropout layer and modify your fully-connected network to optionally use dropout.\n",
    "\n",
    "[1] [Geoffrey E. Hinton et al, \"Improving neural networks by preventing co-adaptation of feature detectors\", arXiv 2012](https://arxiv.org/abs/1207.0580)"
   ]
  },
  {
   "cell_type": "code",
   "execution_count": 1,
   "metadata": {},
   "outputs": [],
   "source": [
    "import numpy as np\n",
    "import tensorflow as tf\n",
    "import matplotlib.pyplot as plt\n",
    "from data_utils import get_CIFAR10_data\n",
    "from implementations.layers import dropout_forward\n",
    "\n",
    "\n",
    "%matplotlib inline\n",
    "plt.rcParams['figure.figsize'] = (10.0, 8.0) # set default size of plots\n",
    "plt.rcParams['image.interpolation'] = 'nearest'\n",
    "plt.rcParams['image.cmap'] = 'gray'\n",
    "\n",
    "# for auto-reloading external modules\n",
    "# see http://stackoverflow.com/questions/1907993/autoreload-of-modules-in-ipython\n",
    "%load_ext autoreload\n",
    "%autoreload 2\n",
    "\n",
    "def rel_error(x, y):\n",
    "  \"\"\" returns relative error \"\"\"\n",
    "  return np.max(np.abs(x - y) / (np.maximum(1e-8, np.abs(x) + np.abs(y))))"
   ]
  },
  {
   "cell_type": "code",
   "execution_count": 2,
   "metadata": {
    "scrolled": true
   },
   "outputs": [
    {
     "name": "stdout",
     "output_type": "stream",
     "text": [
      "X_train:  (49000, 3, 32, 32)\n",
      "y_train:  (49000,)\n",
      "X_val:  (1000, 3, 32, 32)\n",
      "y_val:  (1000,)\n",
      "X_test:  (1000, 3, 32, 32)\n",
      "y_test:  (1000,)\n"
     ]
    }
   ],
   "source": [
    "# Load the (preprocessed) CIFAR10 data.\n",
    "\n",
    "data = get_CIFAR10_data()\n",
    "for k, v in data.items():\n",
    "  print('%s: ' % k, v.shape)"
   ]
  },
  {
   "cell_type": "markdown",
   "metadata": {},
   "source": [
    "# Dropout in Tensorflow\n",
    "Let's first try the dropout function in Tensorflow."
   ]
  },
  {
   "cell_type": "code",
   "execution_count": 3,
   "metadata": {},
   "outputs": [
    {
     "name": "stdout",
     "output_type": "stream",
     "text": [
      "WARNING:tensorflow:From <ipython-input-3-bdbd85df5008>:7: calling dropout (from tensorflow.python.ops.nn_ops) with keep_prob is deprecated and will be removed in a future version.\n",
      "Instructions for updating:\n",
      "Please use `rate` instead of `keep_prob`. Rate should be set to `rate = 1 - keep_prob`.\n",
      "Running tests with p =  0.25\n",
      "Mean of input:  9.998768973493084\n",
      "Mean of train-time output:  9.9957137660448\n",
      "Fraction of train-time output set to zero:  0.750112\n",
      "\n",
      "Running tests with p =  0.4\n",
      "Mean of input:  9.998768973493084\n",
      "Mean of train-time output:  10.015868072002652\n",
      "Fraction of train-time output set to zero:  0.599244\n",
      "\n",
      "Running tests with p =  0.7\n",
      "Mean of input:  9.998768973493084\n",
      "Mean of train-time output:  9.98812569165609\n",
      "Fraction of train-time output set to zero:  0.30056\n",
      "\n"
     ]
    }
   ],
   "source": [
    "np.random.seed(15009)\n",
    "x = np.random.randn(500, 500) + 10\n",
    "\n",
    "for p in [0.25, 0.4, 0.7]:\n",
    "  \n",
    "  # please read the documentation of tf.nn.dropout carefully\n",
    "  out = tf.Session().run(tf.nn.dropout(x, keep_prob=p))\n",
    "\n",
    "  print('Running tests with p = ', p)\n",
    "  print('Mean of input: ', x.mean())\n",
    "  print('Mean of train-time output: ', out.mean())\n",
    "  print('Fraction of train-time output set to zero: ', (out == 0).mean())\n",
    "  print()"
   ]
  },
  {
   "cell_type": "markdown",
   "metadata": {},
   "source": [
    "# Dropout forward pass\n",
    "In the file `implementations/layers.py`, implement the forward pass for dropout. Since dropout behaves differently during training and testing, make sure to implement the operation for both modes.\n",
    "\n",
    "Once you have done so, run the cell below to test your implementation."
   ]
  },
  {
   "cell_type": "code",
   "execution_count": 4,
   "metadata": {},
   "outputs": [
    {
     "name": "stdout",
     "output_type": "stream",
     "text": [
      "Running tests with p =  0.25\n",
      "Mean of input:  9.998768973493084\n",
      "Mean of train-time output:  10.076325491035233\n",
      "Mean of test-time output:  9.998768973493084\n",
      "Fraction of train-time output set to zero:  0.748048\n",
      "Fraction of test-time output set to zero:  0.0\n",
      "\n",
      "Running tests with p =  0.4\n",
      "Mean of input:  9.998768973493084\n",
      "Mean of train-time output:  9.986985273167813\n",
      "Mean of test-time output:  9.998768973493084\n",
      "Fraction of train-time output set to zero:  0.600492\n",
      "Fraction of test-time output set to zero:  0.0\n",
      "\n",
      "Running tests with p =  0.7\n",
      "Mean of input:  9.998768973493084\n",
      "Mean of train-time output:  10.025574363127927\n",
      "Mean of test-time output:  9.998768973493084\n",
      "Fraction of train-time output set to zero:  0.29814\n",
      "Fraction of test-time output set to zero:  0.0\n",
      "\n"
     ]
    }
   ],
   "source": [
    "np.random.seed(15009)\n",
    "x = np.random.randn(500, 500) + 10\n",
    "\n",
    "for p in [0.25, 0.4, 0.7]:\n",
    "  out = dropout_forward(x, {'mode': 'train', 'p': p})\n",
    "\n",
    "  # Hint: The tensorflow dropout does not have a mode parameter to specify the mode.\n",
    "  out_test = dropout_forward(x, {'mode': 'test', 'p': p})\n",
    "\n",
    "  print('Running tests with p = ', p)\n",
    "  print('Mean of input: ', x.mean())\n",
    "  print('Mean of train-time output: ', out.mean())\n",
    "  print('Mean of test-time output: ', out_test.mean())\n",
    "  print('Fraction of train-time output set to zero: ', (out == 0).mean())\n",
    "  print('Fraction of test-time output set to zero: ', (out_test == 0).mean())\n",
    "  print()"
   ]
  },
  {
   "cell_type": "markdown",
   "metadata": {},
   "source": [
    "## Inline Question 1:\n",
    "What happens if we do not divide the values being passed through inverse dropout by `p` in the dropout layer? Why does that happen?\n",
    "\n"
   ]
  },
  {
   "cell_type": "markdown",
   "metadata": {},
   "source": [
    "## Answer:\n",
    "This happens to keep the \"range\" of the output neuron within normal levels of no dropout. If the values are not divided by p this could cause the neuron to saturate. "
   ]
  },
  {
   "cell_type": "markdown",
   "metadata": {},
   "source": [
    "# Fully-connected nets with Dropout\n",
    "\n",
    "The assignment provides an implementation of fully connected neural network. You need to add dropout layters to the implementation. *Now you can use* `tf.nn.dropout`."
   ]
  },
  {
   "cell_type": "markdown",
   "metadata": {},
   "source": [
    "**Regularization experiment:**  As an experiment, we will train a pair of two-layer networks on 500 training examples: one will use no dropout, and one will use a keep probability of 0.25. We will then visualize the training and validation accuracies of the two networks over time."
   ]
  },
  {
   "cell_type": "code",
   "execution_count": 7,
   "metadata": {
    "scrolled": false
   },
   "outputs": [
    {
     "name": "stdout",
     "output_type": "stream",
     "text": [
      "iteration 0 / 1000: objective 74.464775\n",
      "iteration 100 / 1000: objective 43.078403\n",
      "iteration 200 / 1000: objective 32.892120\n",
      "iteration 300 / 1000: objective 17.114698\n",
      "iteration 400 / 1000: objective 14.227290\n",
      "iteration 500 / 1000: objective 21.940580\n",
      "iteration 600 / 1000: objective 3.830667\n",
      "iteration 700 / 1000: objective 3.937410\n",
      "iteration 800 / 1000: objective 2.006174\n",
      "iteration 900 / 1000: objective 2.123654\n",
      "iteration 0 / 1000: objective 76.679871\n",
      "iteration 100 / 1000: objective 44.354172\n",
      "iteration 200 / 1000: objective 42.335323\n",
      "iteration 300 / 1000: objective 27.721495\n",
      "iteration 400 / 1000: objective 28.461147\n",
      "iteration 500 / 1000: objective 44.789948\n",
      "iteration 600 / 1000: objective 15.377269\n",
      "iteration 700 / 1000: objective 11.519280\n",
      "iteration 800 / 1000: objective 6.838014\n",
      "iteration 900 / 1000: objective 7.559201\n"
     ]
    }
   ],
   "source": [
    "from implementations.fc_net import FullyConnectedNet\n",
    "\n",
    "# Train two identical nets, one with dropout and one without\n",
    "np.random.seed(15009)\n",
    "num_train = 500\n",
    "\n",
    "X_train = data['X_train'][:num_train]\n",
    "X_train = np.reshape(X_train, [X_train.shape[0], -1]) / 255\n",
    "y_train = data['y_train'][:num_train]\n",
    "X_val = data['X_val']\n",
    "X_val = np.reshape(X_val, [X_val.shape[0], -1]) / 255\n",
    "y_val = data['y_val']\n",
    "\n",
    "traces={}\n",
    "dropout_choices = [1, 0.25]\n",
    "for keep_prob in dropout_choices:\n",
    "  model = FullyConnectedNet(input_size=X_train[0].size, hidden_size=[500], output_size=10, use_dropout=True)\n",
    "\n",
    "\n",
    "\n",
    "  train_trace= model.train(X=X_train, y=y_train, X_val=X_val, y_val=y_val,\n",
    "                           learning_rate=2e-3, keep_prob=keep_prob,\n",
    "                           reg=np.float32(5e-6), num_iters=1000,\n",
    "                           batch_size=32, verbose=True)\n",
    "\n",
    "  traces[keep_prob] = train_trace"
   ]
  },
  {
   "cell_type": "code",
   "execution_count": 8,
   "metadata": {},
   "outputs": [
    {
     "data": {
      "image/png": "[encoded data removed]",
      "text/plain": [
       "<Figure size 1080x1080 with 2 Axes>"
      ]
     },
     "metadata": {
      "needs_background": "light"
     },
     "output_type": "display_data"
    }
   ],
   "source": [
    "# Plot train and validation accuracies of the two models\n",
    "\n",
    "train_accs = []\n",
    "val_accs = []\n",
    "for keep_prob in dropout_choices:\n",
    "  trace = traces[keep_prob]\n",
    "  train_accs.append(trace['train_acc_history'][-1])\n",
    "  val_accs.append(trace['val_acc_history'][-1])\n",
    "\n",
    "plt.subplot(3, 1, 1)\n",
    "for keep_prob in dropout_choices:\n",
    "  plt.plot(traces[keep_prob]['train_acc_history'], '-o', label='keep-prob=%.2f' % keep_prob)\n",
    "plt.title('Train accuracy')\n",
    "plt.xlabel('Epoch')\n",
    "plt.ylabel('Accuracy')\n",
    "plt.legend(ncol=2, loc='lower right')\n",
    "  \n",
    "plt.subplot(3, 1, 2)\n",
    "for keep_prob in dropout_choices:\n",
    "  plt.plot(traces[keep_prob]['val_acc_history'], '-o', label='keep-prob=%.2f' % keep_prob)\n",
    "plt.title('Val accuracy')\n",
    "plt.xlabel('Epoch')\n",
    "plt.ylabel('Accuracy')\n",
    "plt.legend(ncol=2, loc='lower right')\n",
    "\n",
    "plt.gcf().set_size_inches(15, 15)\n",
    "plt.show()"
   ]
  },
  {
   "cell_type": "markdown",
   "metadata": {},
   "source": [
    "## Inline Question 2:\n",
    "Compare the validation and training accuracies with and without dropout -- what do your results suggest about dropout as a regularizer?\n",
    "\n"
   ]
  },
  {
   "cell_type": "markdown",
   "metadata": {},
   "source": [
    "## Answer:\n",
    "The train accuracy is higher without dropout, but the validation accuracy using dropout is higher. This suggests using dropout as a regularizer helps prevent overfitting. "
   ]
  },
  {
   "cell_type": "markdown",
   "metadata": {},
   "source": [
    "## Inline Question 3:\n",
    "Suppose we are training a deep fully-connected network for image classification, with dropout after hidden layers (parameterized by keep probability p). How should we modify p, if at all, if we decide to decrease the size of the hidden layers (that is, the number of nodes in each layer)?"
   ]
  },
  {
   "cell_type": "markdown",
   "metadata": {},
   "source": [
    "## Answer:\n",
    "If we decrease the size of hidden layers we want to increase the keep probability so we are still using a sufficient amount of neurons. This is also because decreasing the size of hidden layers can lead towards underfitting so we want to increase the keep probability to counter act this."
   ]
  }
 ],
 "metadata": {
  "kernelspec": {
   "display_name": "Python 3",
   "language": "python",
   "name": "python3"
  },
  "language_info": {
   "codemirror_mode": {
    "name": "ipython",
    "version": 3
   },
   "file_extension": ".py",
   "mimetype": "text/x-python",
   "name": "python",
   "nbconvert_exporter": "python",
   "pygments_lexer": "ipython3",
   "version": "3.7.1"
  }
 },
 "nbformat": 4,
 "nbformat_minor": 2
}
