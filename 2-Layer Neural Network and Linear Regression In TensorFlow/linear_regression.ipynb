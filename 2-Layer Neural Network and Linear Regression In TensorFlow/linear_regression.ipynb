{
 "cells": [
  {
   "cell_type": "markdown",
   "metadata": {},
   "source": [
    "# Learn Tensorflow via a linear regression model\n",
    "In this excercise, you will learn tensorflow in steps. Please use python 3 and tensorflow >=1.4.0. "
   ]
  },
  {
   "cell_type": "code",
   "execution_count": 4,
   "metadata": {},
   "outputs": [
    {
     "name": "stdout",
     "output_type": "stream",
     "text": [
      "The autoreload extension is already loaded. To reload it, use:\n",
      "  %reload_ext autoreload\n"
     ]
    }
   ],
   "source": [
    "# A bit of setup\n",
    "\n",
    "import numpy as np\n",
    "import tensorflow as tf\n",
    "import matplotlib.pyplot as plt\n",
    "\n",
    "from implementations.a_tensorflow import regression_graph\n",
    "from plot_graph import show_graph\n",
    "\n",
    "\n",
    "%matplotlib inline\n",
    "plt.rcParams['figure.figsize'] = (10.0, 8.0) # set default size of plots\n",
    "plt.rcParams['image.interpolation'] = 'nearest'\n",
    "plt.rcParams['image.cmap'] = 'gray'\n",
    "\n",
    "# for auto-reloading external modules\n",
    "# see http://stackoverflow.com/questions/1907993/autoreload-of-modules-in-ipython\n",
    "%load_ext autoreload\n",
    "%autoreload 2\n"
   ]
  },
  {
   "cell_type": "markdown",
   "metadata": {},
   "source": [
    "## Tensorflow graph\n",
    "In the first step, we test a tensorflow graph with all constants. Please read `a_tensorflow.regression_graph()`. It calculates the squared loss for the linear regression model. \n",
    "\n",
    "### <span style=\"color:red\">Question 1 (4 points):</span>\n",
    "Please run the code in the cell below, comment out the first line, and then run the cell multiple times. Why does the right-most graph get numbers on it nodes with your runs?"
   ]
  },
  {
   "cell_type": "code",
   "execution_count": 16,
   "metadata": {},
   "outputs": [
    {
     "name": "stdout",
     "output_type": "stream",
     "text": [
      "Msg from the function: we can evaluate any value in the graph with tf.Session\n",
      "Msg from the function: the value of f = w * x + b is 2.18\n"
     ]
    },
    {
     "data": {
      "text/html": [
       "\n",
       "        <iframe seamless style=\"width:1200px;height:620px;border:0\" srcdoc=\"\n",
       "        <script>\n",
       "          function load() {\n",
       "            document.getElementById(&quot;graph0.5116875438252583&quot;).pbtxt = 'node {\\n  name: &quot;weight&quot;\\n  op: &quot;Const&quot;\\n  attr {\\n    key: &quot;dtype&quot;\\n    value {\\n      type: DT_FLOAT\\n    }\\n  }\\n  attr {\\n    key: &quot;value&quot;\\n    value {\\n      tensor {\\n        dtype: DT_FLOAT\\n        tensor_shape {\\n        }\\n        float_val: 1.600000023841858\\n      }\\n    }\\n  }\\n}\\nnode {\\n  name: &quot;bias&quot;\\n  op: &quot;Const&quot;\\n  attr {\\n    key: &quot;dtype&quot;\\n    value {\\n      type: DT_FLOAT\\n    }\\n  }\\n  attr {\\n    key: &quot;value&quot;\\n    value {\\n      tensor {\\n        dtype: DT_FLOAT\\n        tensor_shape {\\n        }\\n        float_val: 0.8999999761581421\\n      }\\n    }\\n  }\\n}\\nnode {\\n  name: &quot;feature&quot;\\n  op: &quot;Const&quot;\\n  attr {\\n    key: &quot;dtype&quot;\\n    value {\\n      type: DT_FLOAT\\n    }\\n  }\\n  attr {\\n    key: &quot;value&quot;\\n    value {\\n      tensor {\\n        dtype: DT_FLOAT\\n        tensor_shape {\\n        }\\n        float_val: 0.800000011920929\\n      }\\n    }\\n  }\\n}\\nnode {\\n  name: &quot;label&quot;\\n  op: &quot;Const&quot;\\n  attr {\\n    key: &quot;dtype&quot;\\n    value {\\n      type: DT_FLOAT\\n    }\\n  }\\n  attr {\\n    key: &quot;value&quot;\\n    value {\\n      tensor {\\n        dtype: DT_FLOAT\\n        tensor_shape {\\n        }\\n        float_val: 0.20000000298023224\\n      }\\n    }\\n  }\\n}\\nnode {\\n  name: &quot;inner_product&quot;\\n  op: &quot;Mul&quot;\\n  input: &quot;weight&quot;\\n  input: &quot;feature&quot;\\n  attr {\\n    key: &quot;T&quot;\\n    value {\\n      type: DT_FLOAT\\n    }\\n  }\\n}\\nnode {\\n  name: &quot;score&quot;\\n  op: &quot;Add&quot;\\n  input: &quot;inner_product&quot;\\n  input: &quot;bias&quot;\\n  attr {\\n    key: &quot;T&quot;\\n    value {\\n      type: DT_FLOAT\\n    }\\n  }\\n}\\nnode {\\n  name: &quot;difference&quot;\\n  op: &quot;Sub&quot;\\n  input: &quot;score&quot;\\n  input: &quot;label&quot;\\n  attr {\\n    key: &quot;T&quot;\\n    value {\\n      type: DT_FLOAT\\n    }\\n  }\\n}\\nnode {\\n  name: &quot;squared_loss&quot;\\n  op: &quot;Square&quot;\\n  input: &quot;difference&quot;\\n  attr {\\n    key: &quot;T&quot;\\n    value {\\n      type: DT_FLOAT\\n    }\\n  }\\n}\\n';\n",
       "          }\n",
       "        </script>\n",
       "        <link rel=&quot;import&quot; href=&quot;https://tensorboard.appspot.com/tf-graph-basic.build.html&quot; onload=load()>\n",
       "        <div style=&quot;height:600px&quot;>\n",
       "          <tf-graph-basic id=&quot;graph0.5116875438252583&quot;></tf-graph-basic>\n",
       "        </div>\n",
       "    \"></iframe>\n",
       "    "
      ],
      "text/plain": [
       "<IPython.core.display.HTML object>"
      ]
     },
     "metadata": {},
     "output_type": "display_data"
    },
    {
     "data": {
      "text/plain": [
       "<tensorflow.python.client.session.Session at 0xb273d9e80>"
      ]
     },
     "execution_count": 16,
     "metadata": {},
     "output_type": "execute_result"
    }
   ],
   "source": [
    "tf.reset_default_graph() \n",
    "loss = regression_graph(True) # the first function in a_tensorflow\n",
    "show_graph(loss.graph)\n",
    "tf.Session()\n"
   ]
  },
  {
   "cell_type": "markdown",
   "metadata": {},
   "source": [
    "Note 1: use `tf.Session()` to run the graph and evaluate the value of a graph node. \n",
    "Note 2: retrieve a graph node by its name. \n",
    "\n",
    "### <span style=\"color:red\">Question 2 (4 points):</span> \n",
    "Please uncomment the last two lines and evaluate the loss. "
   ]
  },
  {
   "cell_type": "code",
   "execution_count": 17,
   "metadata": {
    "scrolled": true
   },
   "outputs": [
    {
     "name": "stdout",
     "output_type": "stream",
     "text": [
      "Msg from the function: we can evaluate any value in the graph with tf.Session\n",
      "Msg from the function: the value of f = w * x + b is 2.18\n",
      "We retrieve f from the graph and show its value:  2.18\n",
      "The loss is \n"
     ]
    },
    {
     "data": {
      "text/plain": [
       "3.9204001"
      ]
     },
     "execution_count": 17,
     "metadata": {},
     "output_type": "execute_result"
    }
   ],
   "source": [
    "tf.reset_default_graph()\n",
    "loss = regression_graph(print_info=True)\n",
    "session = tf.Session()\n",
    "\n",
    "# retrieve the variable from the graph\n",
    "f = tf.get_default_graph().get_tensor_by_name('score:0')\n",
    "print(\"We retrieve f from the graph and show its value: \", session.run(f))\n",
    "\n",
    "print('The loss is ')\n",
    "session.run(loss)"
   ]
  },
  {
   "cell_type": "markdown",
   "metadata": {},
   "source": [
    "## Tensorflow graph with vectors\n",
    "\n",
    "We can get a tensor's shape with its member function `get_shape()`. Note that this function is python function, not a tensorflow operation, so it runs when you build the graph. \n",
    "\n",
    "We can also use the tensorflow operation `tf.shape()` to get the shape of a tensor. Since it is an operation, it is part of the graph. You need to run the operation to get the actual value. \n",
    "\n",
    "### <span style=\"color:red\">Question 3 (4 points):</span> \n",
    "Complete the code in the function `regression_graph_vectorized` so the following cell can run. "
   ]
  },
  {
   "cell_type": "code",
   "execution_count": 22,
   "metadata": {},
   "outputs": [
    {
     "name": "stdout",
     "output_type": "stream",
     "text": [
      "By w.get_shape(), we get the shape of the tensor w: (2,)\n",
      "With tf.shape(w), we get the shape of w as a one-element tensor: Tensor(\"Shape:0\", shape=(1,), dtype=int32)\n",
      "The shape of tf.matmul(x, w) is: (3, 1)\n",
      "The shape of tf.squeeze(tf.matmul(x, w)) is: (3,)\n",
      "35.343597\n"
     ]
    }
   ],
   "source": [
    "from implementations.a_tensorflow import regression_graph_vectorized\n",
    "tf.reset_default_graph() \n",
    "loss = regression_graph_vectorized(print_info=True)\n",
    "\n",
    "print(tf.Session().run(loss))"
   ]
  },
  {
   "cell_type": "markdown",
   "metadata": {},
   "source": [
    "## Place holder in Tensorflow graph\n",
    "\n",
    "A `placeholder` holds space for the data that will be fed into the graph in the future. It can has shape `None` in one or more dimensions. The size of that dimension will be decided by the data. \n",
    "\n",
    "### <span style=\"color:red\">Question 4 (4 points):</span> \n",
    "Please implement the function `regression_graph_with_placeholder` and get the cell below run. "
   ]
  },
  {
   "cell_type": "code",
   "execution_count": 24,
   "metadata": {},
   "outputs": [
    {
     "name": "stdout",
     "output_type": "stream",
     "text": [
      "The place holder x is: Tensor(\"feature:0\", shape=(?, 2), dtype=float32)\n"
     ]
    },
    {
     "data": {
      "text/plain": [
       "8.833251"
      ]
     },
     "execution_count": 24,
     "metadata": {},
     "output_type": "execute_result"
    }
   ],
   "source": [
    "from implementations.a_tensorflow import regression_graph_with_placeholder\n",
    "tf.reset_default_graph() \n",
    "\n",
    "# build a graph with place holders\n",
    "x = tf.placeholder(shape=[None, 2], dtype=tf.float32, name='feature')\n",
    "y = tf.placeholder(shape=[None], dtype=tf.float32, name='label')\n",
    "\n",
    "print('The place holder x is:', x) # take a look of the place holder\n",
    "\n",
    "loss = regression_graph_with_placeholder(x=x, y=y)\n",
    "\n",
    "# need to feed in actual values to x and y to evaluate the variable loss\n",
    "\n",
    "# numpy values\n",
    "np.random.seed(seed=2019)\n",
    "npx = np.random.random_sample([10, 2])\n",
    "npy = np.squeeze(npx.dot([[0.3], [0.6]])) + 1.0 + 0.05 * np.random.random_sample([10])\n",
    "\n",
    "# this line cannot run because you need to feed in values for place holders. Can you fix it?\n",
    "#tf.Session().run(loss) \n",
    "\n",
    "tf.Session().run(loss, feed_dict={x: npx, y: npy})\n",
    "\n",
    "\n",
    "# feed in a different set of data\n",
    "npx = np.random.random_sample([10, 2])\n",
    "npy = np.squeeze(npx.dot([[0.7], [0.9]])) + 1.0 + 0.05 * np.random.random_sample([10])\n",
    "\n",
    "# it get a different loss value\n",
    "tf.Session().run(loss, feed_dict={x: npx, y: npy})"
   ]
  },
  {
   "cell_type": "markdown",
   "metadata": {},
   "source": [
    "## Tensorflow graph with variables\n",
    "\n",
    "We need to use `tf.Variable` to declare variables that we can optimize later. We often use `Variable`s for model parameters, which are mutable. We seldomly use `Variable`s for data. \n",
    "\n",
    "### <span style=\"color:red\">Question 5 (4 points):</span> \n",
    "Please implement the function `regression_graph_with_variable` and get the cell below run. "
   ]
  },
  {
   "cell_type": "code",
   "execution_count": 51,
   "metadata": {},
   "outputs": [
    {
     "data": {
      "text/plain": [
       "35.343597"
      ]
     },
     "execution_count": 51,
     "metadata": {},
     "output_type": "execute_result"
    }
   ],
   "source": [
    "from implementations.a_tensorflow import regression_graph_with_variable\n",
    "tf.reset_default_graph() \n",
    "\n",
    "w = tf.Variable(np.full(shape=[2], fill_value=1.6, dtype=np.float32), name='weight')\n",
    "b = tf.Variable(tf.constant(0.9), name='bias')\n",
    "\n",
    "loss = regression_graph_with_variable(w=w, b=b)\n",
    "\n",
    "\n",
    "session = tf.Session()\n",
    "\n",
    "init = tf.global_variables_initializer()\n",
    "session.run(init)\n",
    "\n",
    "session.run(loss) # you cannot directly run loss because you need to initialize variables first\n"
   ]
  },
  {
   "cell_type": "markdown",
   "metadata": {},
   "source": [
    "## Gradient calculation\n",
    "\n",
    "Tensorflow can calculate gradient with respect to a `Variable` (but not a `constant` or a `placeholder`). Let's use an optimizer to optimize a gradient.\n",
    "\n",
    "\n",
    "### <span style=\"color:red\">Question 6 (4 points):</span> \n",
    "Please read the documentation of `compute_gradients` and `apply_gradients`. \n",
    "Can you update w and b ten times and make the loss smaller?"
   ]
  },
  {
   "cell_type": "code",
   "execution_count": 52,
   "metadata": {
    "scrolled": true
   },
   "outputs": [
    {
     "name": "stdout",
     "output_type": "stream",
     "text": [
      "The current loss is:  35.343597\n",
      "The current variable gradients and values are\n",
      "[(array([ 9.504, 19.008], dtype=float32), array([1.6, 1.6], dtype=float32)), (35.64, 0.9)]\n",
      "The current loss is:  20.22711\n",
      "The current loss is:  11.590826\n",
      "The current loss is:  6.656742\n",
      "The current loss is:  3.8377576\n",
      "The current loss is:  2.227149\n",
      "The current loss is:  1.306897\n",
      "The current loss is:  0.7810533\n",
      "The current loss is:  0.48053962\n",
      "The current loss is:  0.30876014\n",
      "The current loss is:  0.21052843\n",
      "The current variable gradients and values are\n",
      "[(array([0.6825131, 1.0687174], dtype=float32), array([1.2274793 , 0.87473065], dtype=float32)), (2.189038, -0.4722376)]\n"
     ]
    }
   ],
   "source": [
    "\n",
    "# initialize an optimizer\n",
    "opt = tf.train.GradientDescentOptimizer(learning_rate=0.01)\n",
    "grads_vars = opt.compute_gradients(loss, var_list=[w, b])\n",
    "update = opt.apply_gradients(grads_vars)\n",
    "\n",
    "\n",
    "print('The current loss is: ', session.run(loss))\n",
    "print('The current variable gradients and values are')\n",
    "print(session.run(grads_vars))\n",
    "\n",
    "for iter in range(10):  # can you run multiple steps to minimize the loss?\n",
    "\n",
    "    session.run(update)\n",
    "\n",
    "    print('The current loss is: ', session.run(loss))\n",
    "print('The current variable gradients and values are')\n",
    "print(session.run(grads_vars))\n"
   ]
  },
  {
   "cell_type": "markdown",
   "metadata": {},
   "source": [
    "## Compose the full version of linear regression\n",
    "\n",
    "### <span style=\"color:red\">Question 7 (4 points):</span> \n",
    "\n",
    "Can you use all techniques you have learned above to compose a full version of linear regression? \n",
    "\n",
    "We use data with one feature only so we can plot the data easily. Assume the feature matrix is `npx` and the label is `npy`. \n"
   ]
  },
  {
   "cell_type": "code",
   "execution_count": 56,
   "metadata": {},
   "outputs": [
    {
     "data": {
      "image/png": "[encoded data removed]",
      "text/plain": [
       "<Figure size 720x576 with 1 Axes>"
      ]
     },
     "metadata": {
      "needs_background": "light"
     },
     "output_type": "display_data"
    }
   ],
   "source": [
    "# plot the data before fitting the model. \n",
    "# numpy values\n",
    "N = 100\n",
    "npx = np.random.random_sample([N, 1])\n",
    "npy = np.squeeze(npx.dot([[0.3]])) + 1.0 + 0.2 * np.random.random_sample([N])\n",
    "\n",
    "plt.plot(npx, npy, 'o')\n",
    "plt.ylabel('y')\n",
    "plt.ylabel('x')\n",
    "plt.show()\n"
   ]
  },
  {
   "cell_type": "code",
   "execution_count": 68,
   "metadata": {},
   "outputs": [
    {
     "name": "stdout",
     "output_type": "stream",
     "text": [
      "The current loss is:  31.556\n",
      "The current variable gradients and values are\n",
      "[(array([60.666702], dtype=float32), array([1.6], dtype=float32)), (81.43428, 0.9)]\n",
      "Loss values become:  17.215826\n",
      "Loss values become:  0.9573574\n",
      "Loss values become:  0.3805294\n",
      "Loss values become:  0.34643045\n",
      "Loss values become:  0.3444148\n",
      "Loss values become:  0.3442956\n",
      "Loss values become:  0.34428856\n",
      "Loss values become:  0.34428808\n",
      "Loss values become:  0.34428814\n",
      "Loss values become:  0.34428805\n"
     ]
    }
   ],
   "source": [
    "from implementations.a_tensorflow import regression_graph_full\n",
    "tf.reset_default_graph() \n",
    "\n",
    "x = tf.placeholder(shape=[None, 1], dtype=tf.float32, name='feature')\n",
    "y = tf.placeholder(shape=[None], dtype=tf.float32, name='label')\n",
    "\n",
    "w = tf.Variable(np.full(shape=[1], fill_value=1.6, dtype=np.float32), name='weight')\n",
    "b = tf.Variable(tf.constant(0.9), name='bias')\n",
    "\n",
    "loss = regression_graph_full(x=x, y=y, w=w, b=b) # you need to implement this function to contruct the graph\n",
    "\n",
    "# get an optimizer\n",
    "opt = tf.train.GradientDescentOptimizer(learning_rate=0.001)\n",
    "\n",
    "# calculate the gradient with compute_gradients\n",
    "grads_vars = opt.compute_gradients(loss, var_list=[w, b])\n",
    "\n",
    "# get an update operation with apply_gradients\n",
    "update = opt.apply_gradients(grads_vars)\n",
    "\n",
    "\n",
    "# get a session\n",
    "session = tf.Session()\n",
    "\n",
    "# initialize your variables, namely w and b\n",
    "#session.run(??)\n",
    "init = tf.global_variables_initializer()\n",
    "session.run(init)\n",
    "\n",
    "# get feeding dictionary\n",
    "feed_dict={x: npx, y: npy}\n",
    "\n",
    "\n",
    "print('The current loss is: ', session.run(loss, feed_dict=feed_dict))\n",
    "print('The current variable gradients and values are')\n",
    "print(session.run(grads_vars, feed_dict=feed_dict)) # something is missing here?\n",
    "\n",
    "for iter in range(1000):  # Run 1000 steps to minimize the loss\n",
    "    \n",
    "    # perform gradient steps by running the update operation \n",
    "    session.run(update, feed_dict=feed_dict)\n",
    "\n",
    "    \n",
    "    if iter % 100 == 1:\n",
    "        print('Loss values become: ', session.run(loss, feed_dict=feed_dict))\n",
    "\n",
    "\n",
    "# obtain the trained model        \n",
    "npw = session.run(w)\n",
    "npb = session.run(b)"
   ]
  },
  {
   "cell_type": "code",
   "execution_count": 69,
   "metadata": {},
   "outputs": [
    {
     "data": {
      "image/png": "[encoded data removed]",
      "text/plain": [
       "<Figure size 720x576 with 1 Axes>"
      ]
     },
     "metadata": {
      "needs_background": "light"
     },
     "output_type": "display_data"
    }
   ],
   "source": [
    "# Plot the result\n",
    "\n",
    "x_line = np.arange(12) / 10.0\n",
    "#print(x_line)\n",
    "#print(npw)\n",
    "#print(npb)\n",
    "y_line = x_line * np.squeeze(npw) + npb\n",
    "\n",
    "plt.plot(npx, npy, 'o')\n",
    "plt.plot(x_line, y_line)\n",
    "plt.ylabel('y')\n",
    "plt.ylabel('x')\n",
    "plt.show()\n"
   ]
  },
  {
   "cell_type": "code",
   "execution_count": null,
   "metadata": {},
   "outputs": [],
   "source": []
  }
 ],
 "metadata": {
  "kernelspec": {
   "display_name": "Python 3",
   "language": "python",
   "name": "python3"
  },
  "language_info": {
   "codemirror_mode": {
    "name": "ipython",
    "version": 3
   },
   "file_extension": ".py",
   "mimetype": "text/x-python",
   "name": "python",
   "nbconvert_exporter": "python",
   "pygments_lexer": "ipython3",
   "version": "3.7.1"
  }
 },
 "nbformat": 4,
 "nbformat_minor": 1
}
